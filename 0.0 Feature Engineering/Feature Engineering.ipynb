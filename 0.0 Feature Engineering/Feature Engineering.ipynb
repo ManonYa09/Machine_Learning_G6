{
 "cells": [
  {
   "cell_type": "code",
   "execution_count": 2,
   "id": "c154ff14-8e56-47af-8c50-190801e82990",
   "metadata": {},
   "outputs": [],
   "source": [
    "import pandas as pd"
   ]
  },
  {
   "cell_type": "code",
   "execution_count": 4,
   "id": "321d9953-8e67-4517-875b-9d76847e5d09",
   "metadata": {},
   "outputs": [],
   "source": [
    "df = pd.read_csv('https://raw.githubusercontent.com/ManonYa09/Machine_Learning_G6/refs/heads/main/Dataset/4.%20WA_Fn-UseC_-Telco-Customer-Churn.csv')"
   ]
  },
  {
   "cell_type": "code",
   "execution_count": 6,
   "id": "664b7d91-a9b6-478f-a6a0-5663d9e8fa54",
   "metadata": {},
   "outputs": [
    {
     "data": {
      "text/plain": [
       "Index(['customerID', 'gender', 'SeniorCitizen', 'Partner', 'Dependents',\n",
       "       'tenure', 'PhoneService', 'MultipleLines', 'InternetService',\n",
       "       'OnlineSecurity', 'OnlineBackup', 'DeviceProtection', 'TechSupport',\n",
       "       'StreamingTV', 'StreamingMovies', 'Contract', 'PaperlessBilling',\n",
       "       'PaymentMethod', 'MonthlyCharges', 'TotalCharges', 'Churn'],\n",
       "      dtype='object')"
      ]
     },
     "execution_count": 6,
     "metadata": {},
     "output_type": "execute_result"
    }
   ],
   "source": [
    "df.columns"
   ]
  },
  {
   "cell_type": "code",
   "execution_count": 8,
   "id": "cad8ee1d-1827-40e5-80cb-2f3b49568217",
   "metadata": {},
   "outputs": [
    {
     "data": {
      "text/plain": [
       "dtype('O')"
      ]
     },
     "execution_count": 8,
     "metadata": {},
     "output_type": "execute_result"
    }
   ],
   "source": [
    "df['TotalCharges'].dtype"
   ]
  },
  {
   "cell_type": "code",
   "execution_count": 10,
   "id": "e44c632c-36ba-42b1-a06d-7e4b7be83e0c",
   "metadata": {},
   "outputs": [],
   "source": [
    "categorical_column = []\n",
    "columns_to_drop = ['customerID', 'TotalCharges']\n",
    "target = 'Churn'\n",
    "numerical_colums = []\n",
    "two_unique = []\n",
    "for column in df.columns:\n",
    "    if column in columns_to_drop:\n",
    "        continue\n",
    "    elif column == target:\n",
    "        continue\n",
    "    elif df[column].nunique()==2:\n",
    "        two_unique.append(column)\n",
    "    elif df[column].dtype =='O':\n",
    "        categorical_column.append(column)\n",
    "    else:\n",
    "        numerical_colums.append(column)"
   ]
  },
  {
   "cell_type": "code",
   "execution_count": 14,
   "id": "7c5e2d77-9c2e-4e24-9595-cd457bdc65f7",
   "metadata": {},
   "outputs": [
    {
     "data": {
      "text/plain": [
       "['tenure', 'MonthlyCharges']"
      ]
     },
     "execution_count": 14,
     "metadata": {},
     "output_type": "execute_result"
    }
   ],
   "source": [
    "numerical_colums"
   ]
  },
  {
   "cell_type": "code",
   "execution_count": 20,
   "id": "e87e5bbf-7e02-4850-b793-d2626222e587",
   "metadata": {},
   "outputs": [
    {
     "data": {
      "text/plain": [
       "['gender',\n",
       " 'SeniorCitizen',\n",
       " 'Partner',\n",
       " 'Dependents',\n",
       " 'PhoneService',\n",
       " 'PaperlessBilling']"
      ]
     },
     "execution_count": 20,
     "metadata": {},
     "output_type": "execute_result"
    }
   ],
   "source": [
    "two_unique"
   ]
  },
  {
   "cell_type": "code",
   "execution_count": 12,
   "id": "4a8c7a9d-6788-4e13-ac23-f6a736419867",
   "metadata": {},
   "outputs": [
    {
     "data": {
      "text/plain": [
       "['MultipleLines',\n",
       " 'InternetService',\n",
       " 'OnlineSecurity',\n",
       " 'OnlineBackup',\n",
       " 'DeviceProtection',\n",
       " 'TechSupport',\n",
       " 'StreamingTV',\n",
       " 'StreamingMovies',\n",
       " 'Contract',\n",
       " 'PaymentMethod']"
      ]
     },
     "execution_count": 12,
     "metadata": {},
     "output_type": "execute_result"
    }
   ],
   "source": [
    "categorical_column"
   ]
  },
  {
   "cell_type": "markdown",
   "id": "b359c846-f496-47cd-a5c7-3eb7e9cbdee0",
   "metadata": {},
   "source": [
    "#### Feature Engineering"
   ]
  },
  {
   "cell_type": "code",
   "execution_count": 81,
   "id": "9ddf77cf-9454-40b4-a657-03ab4357edf1",
   "metadata": {},
   "outputs": [],
   "source": [
    "from sklearn.preprocessing import OneHotEncoder, OrdinalEncoder, StandardScaler, FunctionTransformer\n",
    "from sklearn.compose import ColumnTransformer\n",
    "from sklearn.pipeline import Pipeline\n",
    "from sklearn.model_selection import train_test_split\n",
    "from sklearn.linear_model import LogisticRegression"
   ]
  },
  {
   "cell_type": "code",
   "execution_count": 28,
   "id": "2b4d960a-185e-42ca-ac5e-6700e3441a01",
   "metadata": {},
   "outputs": [],
   "source": [
    "x = df.drop(columns=target) # input variable\n",
    "y = df[target] # target variable"
   ]
  },
  {
   "cell_type": "code",
   "execution_count": 83,
   "id": "3424d0f5-4f12-43c1-99d2-5e7d80abadbb",
   "metadata": {},
   "outputs": [],
   "source": [
    "def drop_columns(x):\n",
    "    return x.drop(columns = columns_to_drop)"
   ]
  },
  {
   "cell_type": "code",
   "execution_count": 30,
   "id": "2ca2255e-a375-49e2-b800-7a8f931f940f",
   "metadata": {},
   "outputs": [],
   "source": [
    "### Cross Validation\n",
    "x_train, x_test, y_train, y_test = train_test_split(x, y, test_size=0.2, random_state= 12) # training 80"
   ]
  },
  {
   "cell_type": "markdown",
   "id": "da41a864-e32a-41a0-8937-459661f642af",
   "metadata": {},
   "source": [
    "### Feature Engineering Pipeline"
   ]
  },
  {
   "cell_type": "code",
   "execution_count": 61,
   "id": "0135930f-28d3-455f-9c44-c8ea48e54f1d",
   "metadata": {},
   "outputs": [],
   "source": [
    "preprocessor = ColumnTransformer([\n",
    "    ('Scaling', StandardScaler(),numerical_colums),\n",
    "    ('OneHot', OneHotEncoder(), categorical_column),\n",
    "    ('Odinal', OrdinalEncoder(), two_unique)\n",
    "])"
   ]
  },
  {
   "cell_type": "code",
   "execution_count": 97,
   "id": "299faaab-3d99-4557-be4e-be752e3edf87",
   "metadata": {},
   "outputs": [],
   "source": [
    "training_pipeline_SVC = Pipeline([\n",
    "    ('drop_columns', FunctionTransformer(drop_columns)),\n",
    "    ('preprocessor', preprocessor),\n",
    "    ('model', SVC())])"
   ]
  },
  {
   "cell_type": "code",
   "execution_count": 101,
   "id": "609fb752-dca4-4feb-b042-8d16566eb0b0",
   "metadata": {},
   "outputs": [],
   "source": [
    "training_pipeline_SVC.fit(x_train, y_train)"
   ]
  },
  {
   "cell_type": "code",
   "execution_count": 89,
   "id": "b26c813f-ad42-4f92-a74a-d6b9962b22d3",
   "metadata": {},
   "outputs": [],
   "source": [
    "training_pipeline = Pipeline([\n",
    "    ('drop_columns', FunctionTransformer(drop_columns)),\n",
    "    ('preprocessor', preprocessor),\n",
    "    ('model', LogisticRegression())])"
   ]
  },
  {
   "cell_type": "code",
   "execution_count": 91,
   "id": "d1972962-f772-4958-856a-e39910004302",
   "metadata": {},
   "outputs": [],
   "source": [
    "from sklearn.svm import SVC"
   ]
  },
  {
   "cell_type": "code",
   "execution_count": 103,
   "id": "a03ac9f2-b886-47c1-8572-0199ab89e113",
   "metadata": {},
   "outputs": [],
   "source": [
    "training_pipeline.fit(x_train, y_train)"
   ]
  },
  {
   "cell_type": "code",
   "execution_count": 79,
   "id": "500e2f31-9d70-46d8-8b18-3fd99cbf04d7",
   "metadata": {},
   "outputs": [
    {
     "data": {
      "text/plain": [
       "array(['No', 'Yes', 'No', ..., 'Yes', 'No', 'Yes'], dtype=object)"
      ]
     },
     "execution_count": 79,
     "metadata": {},
     "output_type": "execute_result"
    }
   ],
   "source": [
    "training_pipeline.predict(x_test)"
   ]
  },
  {
   "cell_type": "code",
   "execution_count": 63,
   "id": "5f1bb3b8-0428-415e-a826-981d9caa793c",
   "metadata": {},
   "outputs": [
    {
     "data": {
      "text/plain": [
       "array([[-1.27744458, -1.16032292,  0.        , ...,  0.        ,\n",
       "         0.        ,  1.        ],\n",
       "       [ 0.06632742, -0.25962894,  1.        , ...,  0.        ,\n",
       "         1.        ,  0.        ],\n",
       "       [-1.23672422, -0.36266036,  1.        , ...,  0.        ,\n",
       "         1.        ,  1.        ],\n",
       "       ...,\n",
       "       [-0.87024095, -1.1686319 ,  0.        , ...,  1.        ,\n",
       "         0.        ,  1.        ],\n",
       "       [-1.15528349,  0.32033821,  0.        , ...,  0.        ,\n",
       "         1.        ,  1.        ],\n",
       "       [ 1.36937906,  1.35896134,  1.        , ...,  0.        ,\n",
       "         1.        ,  1.        ]])"
      ]
     },
     "execution_count": 63,
     "metadata": {},
     "output_type": "execute_result"
    }
   ],
   "source": [
    "preprocessor.fit_transform(df)"
   ]
  },
  {
   "cell_type": "markdown",
   "id": "5426cfd5-0ed8-4c77-a2d0-fc571fd3fd48",
   "metadata": {},
   "source": [
    "### Scaling"
   ]
  },
  {
   "cell_type": "code",
   "execution_count": 48,
   "id": "0c8b3ca8-ac96-42b2-ad29-fc813ca7dfb8",
   "metadata": {},
   "outputs": [
    {
     "data": {
      "text/plain": [
       "array([[-1.27744458, -1.16032292],\n",
       "       [ 0.06632742, -0.25962894],\n",
       "       [-1.23672422, -0.36266036],\n",
       "       ...,\n",
       "       [-0.87024095, -1.1686319 ],\n",
       "       [-1.15528349,  0.32033821],\n",
       "       [ 1.36937906,  1.35896134]])"
      ]
     },
     "execution_count": 48,
     "metadata": {},
     "output_type": "execute_result"
    }
   ],
   "source": [
    "StandardScaler().fit_transform(df[numerical_colums])"
   ]
  },
  {
   "cell_type": "markdown",
   "id": "86d59c49-81e4-4063-8bbb-0480ff62b0eb",
   "metadata": {},
   "source": [
    "### Encoding"
   ]
  },
  {
   "cell_type": "code",
   "execution_count": 36,
   "id": "8c0ed3eb-e0a6-4a0c-9e1f-9e4f98978c03",
   "metadata": {
    "scrolled": true
   },
   "outputs": [
    {
     "data": {
      "text/plain": [
       "array([[0., 0., 1., 0., 0., 1.],\n",
       "       [1., 0., 0., 0., 1., 0.],\n",
       "       [1., 0., 0., 0., 1., 1.],\n",
       "       ...,\n",
       "       [0., 0., 1., 1., 0., 1.],\n",
       "       [1., 1., 1., 0., 1., 1.],\n",
       "       [1., 0., 0., 0., 1., 1.]])"
      ]
     },
     "execution_count": 36,
     "metadata": {},
     "output_type": "execute_result"
    }
   ],
   "source": [
    "OrdinalEncoder().fit_transform(df[two_unique])"
   ]
  },
  {
   "cell_type": "code",
   "execution_count": 38,
   "id": "0ebe04ba-f5e2-4518-836b-c3eecf94e5c3",
   "metadata": {
    "scrolled": true
   },
   "outputs": [
    {
     "data": {
      "text/plain": [
       "array([[0., 1., 0., ..., 0., 1., 0.],\n",
       "       [1., 0., 0., ..., 0., 0., 1.],\n",
       "       [1., 0., 0., ..., 0., 0., 1.],\n",
       "       ...,\n",
       "       [0., 1., 0., ..., 0., 1., 0.],\n",
       "       [0., 0., 1., ..., 0., 0., 1.],\n",
       "       [1., 0., 0., ..., 0., 0., 0.]])"
      ]
     },
     "execution_count": 38,
     "metadata": {},
     "output_type": "execute_result"
    }
   ],
   "source": [
    "OneHotEncoder().fit_transform(df[categorical_column]).toarray()"
   ]
  },
  {
   "cell_type": "code",
   "execution_count": null,
   "id": "1dff0e76-f3f7-4b61-9dd8-4cab956eaa4d",
   "metadata": {},
   "outputs": [],
   "source": []
  }
 ],
 "metadata": {
  "kernelspec": {
   "display_name": "Python 3 (ipykernel)",
   "language": "python",
   "name": "python3"
  },
  "language_info": {
   "codemirror_mode": {
    "name": "ipython",
    "version": 3
   },
   "file_extension": ".py",
   "mimetype": "text/x-python",
   "name": "python",
   "nbconvert_exporter": "python",
   "pygments_lexer": "ipython3",
   "version": "3.11.5"
  }
 },
 "nbformat": 4,
 "nbformat_minor": 5
}
