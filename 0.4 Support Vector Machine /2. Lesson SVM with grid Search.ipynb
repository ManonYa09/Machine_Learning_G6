{
 "cells": [
  {
   "cell_type": "markdown",
   "id": "d099e180-5366-467c-aa00-dfd75fb16c19",
   "metadata": {},
   "source": [
    "<div style=\"text-align: center;\">\n",
    "    <img src=\"https://raw.githubusercontent.com/ManonYa09/Machine-_Learning_G4/refs/heads/main/Slides/Photo/Introduction.jpg\" alt=\"Data Types in Python\" width=\"800\">\n",
    "</div>"
   ]
  },
  {
   "cell_type": "markdown",
   "id": "cf5ae459-e280-4f02-a3f9-934920624651",
   "metadata": {},
   "source": [
    "### What is the main objective of classification problems?"
   ]
  },
  {
   "cell_type": "markdown",
   "id": "6cabb1b4-f4ff-44a4-8734-8002f16dedea",
   "metadata": {},
   "source": [
    "<div style=\"text-align: center;\">\n",
    "    <img src=\"https://raw.githubusercontent.com/ManonYa09/Machine-_Learning_G4/refs/heads/main/Slides/Photo/Classication.jpg\" alt=\"Data Types in Python\" width=\"700\">\n",
    "</div>"
   ]
  },
  {
   "cell_type": "markdown",
   "id": "f5f9bd69-e780-423f-861b-203b8a1da03e",
   "metadata": {},
   "source": [
    "## I. Support Vectore Machines"
   ]
  },
  {
   "cell_type": "markdown",
   "id": "ce0a8526-21a4-4e16-8ce6-1ddc5e0ea8ca",
   "metadata": {},
   "source": [
    "**SVMs** are super helpful in machine learning, especially for figuring out categories and making predictions."
   ]
  },
  {
   "cell_type": "markdown",
   "id": "b6ed262f-7851-4c8a-886a-032bfed12a75",
   "metadata": {},
   "source": [
    "**Kernel functions** in SVMs are math tricks that help the model understand data better. "
   ]
  },
  {
   "cell_type": "markdown",
   "id": "626e74f9-307c-4de6-ac0e-ca87cffc0cac",
   "metadata": {},
   "source": [
    "### There are lots of types of Kernel in SVM\n",
    "### Commonly Used SVM Kernels\n",
    "\n",
    "Support Vector Machines (SVM) use kernel functions to transform input data into a higher-dimensional space where it becomes easier to classify the data. Below are some commonly used SVM kernels:\n",
    "\n",
    "#### 1. Linear Kernel\n",
    "- **Formula**: K(x, x') = x $\\cdot$ x'\n",
    "- **Use Case**: Works well when the data is linearly separable.\n",
    "- **Advantages**: Simple and efficient for high-dimensional data."
   ]
  },
  {
   "cell_type": "markdown",
   "id": "b21980ce-7baf-40c6-9c22-aa97267e3abd",
   "metadata": {},
   "source": [
    "##### 2. Polynomial Kernel\n",
    "- **Formula**:  K(x, x') = $(x \\cdot x' + c)^d$)\n",
    "  - \\( c \\): A constant to trade off the influence of higher-order terms.\n",
    "  - \\( d \\): The degree of the polynomial.\n",
    "- **Use Case**: Effective for non-linear data with interactions of features.\n",
    "- **Advantages**: Captures relationships of a specific polynomial degree."
   ]
  },
  {
   "cell_type": "markdown",
   "id": "e5ec680b-3a2c-4f9a-9e23-fc03f3aed13b",
   "metadata": {},
   "source": [
    "\n",
    "\n",
    "#### 3. Radial Basis Function (RBF) Kernel\n",
    "- **Formula**: $K(x, x') = \\exp\\left(-\\frac{\\|x - x'\\|^2}{2\\sigma^2}\\right))$\n",
    "  - $( \\sigma )$: A parameter that controls the width of the Gaussian.\n",
    "- **Use Case**: Commonly used for non-linear data.\n",
    "- **Advantages**: Handles complex decision boundaries well."
   ]
  },
  {
   "cell_type": "markdown",
   "id": "ffdd6a69-396c-4a9d-ab0b-58fc72a9000a",
   "metadata": {},
   "source": [
    "\n",
    "\n",
    "#### 4. Sigmoid Kernel\n",
    "- **Formula**: $( K(x, x') = \\tanh(\\alpha (x \\cdot x') + c) $\n",
    "  - $( \\alpha )$: A scaling parameter.\n",
    "  - $( c )$: A constant.\n",
    "- **Use Case**: Similar to neural networks, used for specific non-linear problems.\n",
    "- **Advantages**: Flexible and versatile."
   ]
  },
  {
   "cell_type": "markdown",
   "id": "606fba4c-360b-49b4-8a46-73df0d2eb226",
   "metadata": {},
   "source": [
    "\n",
    "\n",
    "#### 5. Custom Kernels\n",
    "- Users can design their own kernel functions to meet specific needs, as long as the kernel satisfies Mercer's condition.\n",
    "\n",
    "---\n",
    "\n",
    "**Tip**: Choosing the right kernel and tuning its parameters (e.g., $( \\sigma )$, $( c )$, or $( d )$) is crucial for achieving good performance."
   ]
  },
  {
   "cell_type": "markdown",
   "id": "e80ff7b5-7cc5-4a46-958c-1ad12565182f",
   "metadata": {},
   "source": [
    "### What Does a Kernel Look Like?"
   ]
  },
  {
   "cell_type": "markdown",
   "id": "d82292f2-55ed-47ec-a883-f1017dafc9a2",
   "metadata": {},
   "source": [
    "<div style=\"text-align: center;\">\n",
    "    <img src=\"https://miro.medium.com/v2/resize:fit:1400/format:webp/0*N1x2IH92w_YDeUIj\" alt=\"Data Types in Python\" width=\"600\">\n",
    "</div>"
   ]
  },
  {
   "cell_type": "code",
   "execution_count": null,
   "id": "c376f86b-b36c-49ed-802b-3687dc76ad22",
   "metadata": {},
   "outputs": [],
   "source": [
    "import pandas as pd\n",
    "import numpy as np\n",
    "import seaborn as sns\n",
    "import matplotlib.pyplot as plt\n",
    "import warnings\n",
    "\n",
    "from sklearn.svm import SVC\n",
    "from sklearn.compose import ColumnTransformer\n",
    "from sklearn.pipeline import Pipeline\n",
    "\n",
    "from sklearn.model_selection import train_test_split\n",
    "warnings.filterwarnings('ignore')"
   ]
  },
  {
   "cell_type": "code",
   "execution_count": null,
   "id": "82bd9387-e334-4112-ab12-2f366ae42ff0",
   "metadata": {},
   "outputs": [],
   "source": [
    "from sklearn.datasets import make_classification"
   ]
  },
  {
   "cell_type": "code",
   "execution_count": null,
   "id": "72867201-a977-46e2-8e49-9899b134dfa5",
   "metadata": {},
   "outputs": [],
   "source": [
    "x, y = make_classification(n_samples= 1000, n_features=2,\n",
    "                           n_classes=2,\n",
    "                           n_clusters_per_class=1,\n",
    "                           n_redundant=0,random_state=4)"
   ]
  },
  {
   "cell_type": "code",
   "execution_count": null,
   "id": "4539a6a1-ba03-416b-974d-7bb3a12783f3",
   "metadata": {},
   "outputs": [],
   "source": [
    "sns.scatterplot(x = pd.DataFrame(x)[0],y = pd.DataFrame(x)[1], hue = y);"
   ]
  },
  {
   "cell_type": "code",
   "execution_count": null,
   "id": "a4a77ac9-fb9c-4c57-b337-7f87666a8aba",
   "metadata": {
    "scrolled": true
   },
   "outputs": [],
   "source": [
    "Traning_model = Pipeline([\n",
    "    ('model', SVC(kernel='sigmoid'))\n",
    "])\n",
    "Traning_model.fit(x_train, y_train)"
   ]
  },
  {
   "cell_type": "code",
   "execution_count": null,
   "id": "b41731ad-32c5-4e77-9b47-69892968d8f4",
   "metadata": {},
   "outputs": [],
   "source": [
    "from sklearn.model_selection import GridSearchCV "
   ]
  },
  {
   "cell_type": "code",
   "execution_count": null,
   "id": "7879d21e-e882-447e-9331-a91cae1d24ac",
   "metadata": {},
   "outputs": [],
   "source": [
    "param_grid = {\n",
    "    'kernel': ['linear', 'poly', 'rbf', 'sigmoid']  # Including multiple kernels\n",
    "}"
   ]
  },
  {
   "cell_type": "code",
   "execution_count": null,
   "id": "f01150aa-059d-429e-9de3-e4dd9d64bc74",
   "metadata": {},
   "outputs": [],
   "source": [
    "model = SVC()\n",
    "\n",
    "# Perform GridSearchCV\n",
    "grid = GridSearchCV(estimator=model, param_grid=param_grid, scoring='accuracy')\n",
    "grid.fit(x_train, y_train)"
   ]
  },
  {
   "cell_type": "code",
   "execution_count": null,
   "id": "8e12235f-ca89-4996-8d8c-64c8167d2b5c",
   "metadata": {},
   "outputs": [],
   "source": [
    "y_prediction1 = grid.predict(x_test)"
   ]
  },
  {
   "cell_type": "code",
   "execution_count": null,
   "id": "42300818-2179-4651-b6ee-3be6d35fd2fe",
   "metadata": {},
   "outputs": [],
   "source": [
    "confusion_matrix(y_test, y_prediction1)"
   ]
  },
  {
   "cell_type": "code",
   "execution_count": null,
   "id": "2b44f124-8d28-4c6a-af00-46ed3a8814d3",
   "metadata": {},
   "outputs": [],
   "source": [
    "y_prediction = Traning_model.predict(x_test)"
   ]
  },
  {
   "cell_type": "code",
   "execution_count": null,
   "id": "b7137f74-0a86-40fd-9098-a442c15ba462",
   "metadata": {},
   "outputs": [],
   "source": [
    "from sklearn.metrics import confusion_matrix"
   ]
  },
  {
   "cell_type": "code",
   "execution_count": null,
   "id": "d43de241-a4cb-4f0e-983a-a4615faf75c5",
   "metadata": {},
   "outputs": [],
   "source": [
    "confusion_matrix(y_test, y_prediction)"
   ]
  }
 ],
 "metadata": {
  "kernelspec": {
   "display_name": "Python 3 (ipykernel)",
   "language": "python",
   "name": "python3"
  },
  "language_info": {
   "codemirror_mode": {
    "name": "ipython",
    "version": 3
   },
   "file_extension": ".py",
   "mimetype": "text/x-python",
   "name": "python",
   "nbconvert_exporter": "python",
   "pygments_lexer": "ipython3",
   "version": "3.11.5"
  }
 },
 "nbformat": 4,
 "nbformat_minor": 5
}
