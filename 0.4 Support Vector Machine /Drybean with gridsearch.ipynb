{
 "cells": [
  {
   "cell_type": "code",
   "execution_count": 1,
   "id": "a135cfb7-c6d9-465a-b50b-5f9f1731763e",
   "metadata": {},
   "outputs": [],
   "source": [
    "import pandas as pd\n",
    "import numpy as np\n",
    "import seaborn as sns\n",
    "import matplotlib.pyplot as plt\n",
    "import warnings\n",
    "from sklearn.svm import SVC, SVR # \n",
    "from sklearn.compose import ColumnTransformer\n",
    "from sklearn.pipeline import Pipeline\n",
    "\n",
    "from sklearn.model_selection import train_test_split\n",
    "warnings.filterwarnings('ignore')"
   ]
  },
  {
   "cell_type": "code",
   "execution_count": 2,
   "id": "c2bf469d-2a85-441b-98e2-9ac8ce0e6752",
   "metadata": {},
   "outputs": [],
   "source": [
    "df = pd.read_excel('Dry_Bean_Dataset.xlsx')"
   ]
  },
  {
   "cell_type": "code",
   "execution_count": 3,
   "id": "43281213-dc04-497d-a40b-826b498e266f",
   "metadata": {},
   "outputs": [],
   "source": [
    "numerical = []\n",
    "categorical = []\n",
    "drop_columns  = []\n",
    "target = 'Class'\n",
    "for column in df.columns:\n",
    "    if column == target:\n",
    "        continue\n",
    "    elif column in drop_columns:\n",
    "        continue\n",
    "    elif df[column].dtype != 'O':\n",
    "        numerical.append(column)\n",
    "    else:\n",
    "        categorical.append(column)"
   ]
  },
  {
   "cell_type": "code",
   "execution_count": 4,
   "id": "4a78a999-aef3-4e3f-bcf2-ab4739e0f331",
   "metadata": {},
   "outputs": [],
   "source": [
    "from sklearn.preprocessing import StandardScaler, OneHotEncoder, FunctionTransformer\n",
    "from sklearn.compose import ColumnTransformer\n",
    "from sklearn.pipeline import Pipeline\n",
    "from sklearn.linear_model import LogisticRegression"
   ]
  },
  {
   "cell_type": "code",
   "execution_count": 5,
   "id": "a0944ff5-27b1-4d90-bb18-67c3b2787f2e",
   "metadata": {},
   "outputs": [],
   "source": [
    "target = 'Class'\n",
    "x, y = df.drop(columns=target), df[target]"
   ]
  },
  {
   "cell_type": "code",
   "execution_count": 6,
   "id": "38219a13-22c0-4d3a-8896-0b663979c218",
   "metadata": {},
   "outputs": [],
   "source": [
    "preprocessor = ColumnTransformer([\n",
    "    ('numberical',StandardScaler(), numerical ),\n",
    "    ('encoding', OneHotEncoder(), categorical)\n",
    "])"
   ]
  },
  {
   "cell_type": "code",
   "execution_count": 8,
   "id": "46638b32-bb7f-44f3-9667-1ca630eb3565",
   "metadata": {},
   "outputs": [],
   "source": [
    "from sklearn.model_selection import train_test_split\n",
    "x_train, x_test, y_train, y_test =train_test_split (x, y)"
   ]
  },
  {
   "cell_type": "markdown",
   "id": "3ce916a6-33ed-4523-9ff3-98714a6c8ae8",
   "metadata": {},
   "source": [
    "### Model Evaluation"
   ]
  },
  {
   "cell_type": "code",
   "execution_count": 12,
   "id": "cef29914-c0f4-4ea9-b837-a8eeeac43e68",
   "metadata": {},
   "outputs": [],
   "source": [
    "from sklearn.metrics import confusion_matrix, classification_report"
   ]
  },
  {
   "cell_type": "code",
   "execution_count": 7,
   "id": "cbf72ef1-11e2-4b7b-9d42-f602d31be90f",
   "metadata": {},
   "outputs": [],
   "source": [
    "training_pipeline = Pipeline([\n",
    "    ('preprocessing', preprocessor),\n",
    "    ('model',SVC(kernel='sigmoid'))\n",
    "])"
   ]
  },
  {
   "cell_type": "code",
   "execution_count": 13,
   "id": "36bed9fd-40c6-4956-8810-ee43a6af8a1a",
   "metadata": {},
   "outputs": [],
   "source": [
    "training_pipeline_logistics = Pipeline([\n",
    "    ('preprocessing', preprocessor),\n",
    "    ('model',LogisticRegression())\n",
    "])"
   ]
  },
  {
   "cell_type": "code",
   "execution_count": 45,
   "id": "5383fdde-4182-4e7f-b298-a7e527e6c198",
   "metadata": {},
   "outputs": [],
   "source": [
    "training_pipeline_logistics.fit(x_train, y_train)"
   ]
  },
  {
   "cell_type": "code",
   "execution_count": 49,
   "id": "be444811-22b8-4098-8483-9dd9bf5549c6",
   "metadata": {},
   "outputs": [],
   "source": [
    "training_pipeline.fit(x_train, y_train)"
   ]
  },
  {
   "cell_type": "code",
   "execution_count": 15,
   "id": "4467b8b1-0329-41b6-9bb0-25fc47f39b36",
   "metadata": {},
   "outputs": [],
   "source": [
    "y_prediction_logistics = training_pipeline_logistics.predict(x_test)"
   ]
  },
  {
   "cell_type": "code",
   "execution_count": 51,
   "id": "ba618216-7c13-4ea6-8ab4-c18e23b172ba",
   "metadata": {},
   "outputs": [],
   "source": [
    "confusion_matrix(y_test, y_prediction_logistics)"
   ]
  },
  {
   "cell_type": "code",
   "execution_count": 53,
   "id": "ae4e1a96-f646-4076-9140-8c1ca528c9ab",
   "metadata": {},
   "outputs": [],
   "source": [
    "# print(classification_report(y_test, y_prediction))"
   ]
  },
  {
   "cell_type": "code",
   "execution_count": 55,
   "id": "3fc1579b-2c3f-4cab-863e-78d5d3e4a489",
   "metadata": {},
   "outputs": [],
   "source": [
    "print(classification_report(y_test, y_prediction_logistics))"
   ]
  },
  {
   "cell_type": "code",
   "execution_count": 19,
   "id": "a9e7487f-a064-4d27-a9c4-2f5d1f9528f0",
   "metadata": {},
   "outputs": [],
   "source": [
    "from sklearn.model_selection import GridSearchCV "
   ]
  },
  {
   "cell_type": "code",
   "execution_count": 20,
   "id": "4c3e67a8-fff1-47a8-99d8-6ae18734cc82",
   "metadata": {},
   "outputs": [],
   "source": [
    "param_grid = {\n",
    "    'model__kernel': ['linear', 'poly', 'rbf', 'sigmoid']  # Including multiple kernels\n",
    "}"
   ]
  },
  {
   "cell_type": "code",
   "execution_count": 21,
   "id": "1f13b1cb-9d7d-4327-81fb-0df0c650f619",
   "metadata": {},
   "outputs": [
    {
     "data": {
      "text/html": [
       "<style>#sk-container-id-3 {color: black;background-color: white;}#sk-container-id-3 pre{padding: 0;}#sk-container-id-3 div.sk-toggleable {background-color: white;}#sk-container-id-3 label.sk-toggleable__label {cursor: pointer;display: block;width: 100%;margin-bottom: 0;padding: 0.3em;box-sizing: border-box;text-align: center;}#sk-container-id-3 label.sk-toggleable__label-arrow:before {content: \"▸\";float: left;margin-right: 0.25em;color: #696969;}#sk-container-id-3 label.sk-toggleable__label-arrow:hover:before {color: black;}#sk-container-id-3 div.sk-estimator:hover label.sk-toggleable__label-arrow:before {color: black;}#sk-container-id-3 div.sk-toggleable__content {max-height: 0;max-width: 0;overflow: hidden;text-align: left;background-color: #f0f8ff;}#sk-container-id-3 div.sk-toggleable__content pre {margin: 0.2em;color: black;border-radius: 0.25em;background-color: #f0f8ff;}#sk-container-id-3 input.sk-toggleable__control:checked~div.sk-toggleable__content {max-height: 200px;max-width: 100%;overflow: auto;}#sk-container-id-3 input.sk-toggleable__control:checked~label.sk-toggleable__label-arrow:before {content: \"▾\";}#sk-container-id-3 div.sk-estimator input.sk-toggleable__control:checked~label.sk-toggleable__label {background-color: #d4ebff;}#sk-container-id-3 div.sk-label input.sk-toggleable__control:checked~label.sk-toggleable__label {background-color: #d4ebff;}#sk-container-id-3 input.sk-hidden--visually {border: 0;clip: rect(1px 1px 1px 1px);clip: rect(1px, 1px, 1px, 1px);height: 1px;margin: -1px;overflow: hidden;padding: 0;position: absolute;width: 1px;}#sk-container-id-3 div.sk-estimator {font-family: monospace;background-color: #f0f8ff;border: 1px dotted black;border-radius: 0.25em;box-sizing: border-box;margin-bottom: 0.5em;}#sk-container-id-3 div.sk-estimator:hover {background-color: #d4ebff;}#sk-container-id-3 div.sk-parallel-item::after {content: \"\";width: 100%;border-bottom: 1px solid gray;flex-grow: 1;}#sk-container-id-3 div.sk-label:hover label.sk-toggleable__label {background-color: #d4ebff;}#sk-container-id-3 div.sk-serial::before {content: \"\";position: absolute;border-left: 1px solid gray;box-sizing: border-box;top: 0;bottom: 0;left: 50%;z-index: 0;}#sk-container-id-3 div.sk-serial {display: flex;flex-direction: column;align-items: center;background-color: white;padding-right: 0.2em;padding-left: 0.2em;position: relative;}#sk-container-id-3 div.sk-item {position: relative;z-index: 1;}#sk-container-id-3 div.sk-parallel {display: flex;align-items: stretch;justify-content: center;background-color: white;position: relative;}#sk-container-id-3 div.sk-item::before, #sk-container-id-3 div.sk-parallel-item::before {content: \"\";position: absolute;border-left: 1px solid gray;box-sizing: border-box;top: 0;bottom: 0;left: 50%;z-index: -1;}#sk-container-id-3 div.sk-parallel-item {display: flex;flex-direction: column;z-index: 1;position: relative;background-color: white;}#sk-container-id-3 div.sk-parallel-item:first-child::after {align-self: flex-end;width: 50%;}#sk-container-id-3 div.sk-parallel-item:last-child::after {align-self: flex-start;width: 50%;}#sk-container-id-3 div.sk-parallel-item:only-child::after {width: 0;}#sk-container-id-3 div.sk-dashed-wrapped {border: 1px dashed gray;margin: 0 0.4em 0.5em 0.4em;box-sizing: border-box;padding-bottom: 0.4em;background-color: white;}#sk-container-id-3 div.sk-label label {font-family: monospace;font-weight: bold;display: inline-block;line-height: 1.2em;}#sk-container-id-3 div.sk-label-container {text-align: center;}#sk-container-id-3 div.sk-container {/* jupyter's `normalize.less` sets `[hidden] { display: none; }` but bootstrap.min.css set `[hidden] { display: none !important; }` so we also need the `!important` here to be able to override the default hidden behavior on the sphinx rendered scikit-learn.org. See: https://github.com/scikit-learn/scikit-learn/issues/21755 */display: inline-block !important;position: relative;}#sk-container-id-3 div.sk-text-repr-fallback {display: none;}</style><div id=\"sk-container-id-3\" class=\"sk-top-container\"><div class=\"sk-text-repr-fallback\"><pre>GridSearchCV(estimator=Pipeline(steps=[(&#x27;preprocessing&#x27;,\n",
       "                                        ColumnTransformer(transformers=[(&#x27;numberical&#x27;,\n",
       "                                                                         StandardScaler(),\n",
       "                                                                         [&#x27;Area&#x27;,\n",
       "                                                                          &#x27;Perimeter&#x27;,\n",
       "                                                                          &#x27;MajorAxisLength&#x27;,\n",
       "                                                                          &#x27;MinorAxisLength&#x27;,\n",
       "                                                                          &#x27;AspectRation&#x27;,\n",
       "                                                                          &#x27;Eccentricity&#x27;,\n",
       "                                                                          &#x27;ConvexArea&#x27;,\n",
       "                                                                          &#x27;EquivDiameter&#x27;,\n",
       "                                                                          &#x27;Extent&#x27;,\n",
       "                                                                          &#x27;Solidity&#x27;,\n",
       "                                                                          &#x27;roundness&#x27;,\n",
       "                                                                          &#x27;Compactness&#x27;,\n",
       "                                                                          &#x27;ShapeFactor1&#x27;,\n",
       "                                                                          &#x27;ShapeFactor2&#x27;,\n",
       "                                                                          &#x27;ShapeFactor3&#x27;,\n",
       "                                                                          &#x27;ShapeFactor4&#x27;]),\n",
       "                                                                        (&#x27;encoding&#x27;,\n",
       "                                                                         OneHotEncoder(),\n",
       "                                                                         [])])),\n",
       "                                       (&#x27;model&#x27;, SVC(kernel=&#x27;sigmoid&#x27;))]),\n",
       "             param_grid={&#x27;model__kernel&#x27;: [&#x27;linear&#x27;, &#x27;poly&#x27;, &#x27;rbf&#x27;, &#x27;sigmoid&#x27;]},\n",
       "             scoring=&#x27;accuracy&#x27;)</pre><b>In a Jupyter environment, please rerun this cell to show the HTML representation or trust the notebook. <br />On GitHub, the HTML representation is unable to render, please try loading this page with nbviewer.org.</b></div><div class=\"sk-container\" hidden><div class=\"sk-item sk-dashed-wrapped\"><div class=\"sk-label-container\"><div class=\"sk-label sk-toggleable\"><input class=\"sk-toggleable__control sk-hidden--visually\" id=\"sk-estimator-id-15\" type=\"checkbox\" ><label for=\"sk-estimator-id-15\" class=\"sk-toggleable__label sk-toggleable__label-arrow\">GridSearchCV</label><div class=\"sk-toggleable__content\"><pre>GridSearchCV(estimator=Pipeline(steps=[(&#x27;preprocessing&#x27;,\n",
       "                                        ColumnTransformer(transformers=[(&#x27;numberical&#x27;,\n",
       "                                                                         StandardScaler(),\n",
       "                                                                         [&#x27;Area&#x27;,\n",
       "                                                                          &#x27;Perimeter&#x27;,\n",
       "                                                                          &#x27;MajorAxisLength&#x27;,\n",
       "                                                                          &#x27;MinorAxisLength&#x27;,\n",
       "                                                                          &#x27;AspectRation&#x27;,\n",
       "                                                                          &#x27;Eccentricity&#x27;,\n",
       "                                                                          &#x27;ConvexArea&#x27;,\n",
       "                                                                          &#x27;EquivDiameter&#x27;,\n",
       "                                                                          &#x27;Extent&#x27;,\n",
       "                                                                          &#x27;Solidity&#x27;,\n",
       "                                                                          &#x27;roundness&#x27;,\n",
       "                                                                          &#x27;Compactness&#x27;,\n",
       "                                                                          &#x27;ShapeFactor1&#x27;,\n",
       "                                                                          &#x27;ShapeFactor2&#x27;,\n",
       "                                                                          &#x27;ShapeFactor3&#x27;,\n",
       "                                                                          &#x27;ShapeFactor4&#x27;]),\n",
       "                                                                        (&#x27;encoding&#x27;,\n",
       "                                                                         OneHotEncoder(),\n",
       "                                                                         [])])),\n",
       "                                       (&#x27;model&#x27;, SVC(kernel=&#x27;sigmoid&#x27;))]),\n",
       "             param_grid={&#x27;model__kernel&#x27;: [&#x27;linear&#x27;, &#x27;poly&#x27;, &#x27;rbf&#x27;, &#x27;sigmoid&#x27;]},\n",
       "             scoring=&#x27;accuracy&#x27;)</pre></div></div></div><div class=\"sk-parallel\"><div class=\"sk-parallel-item\"><div class=\"sk-item\"><div class=\"sk-label-container\"><div class=\"sk-label sk-toggleable\"><input class=\"sk-toggleable__control sk-hidden--visually\" id=\"sk-estimator-id-16\" type=\"checkbox\" ><label for=\"sk-estimator-id-16\" class=\"sk-toggleable__label sk-toggleable__label-arrow\">estimator: Pipeline</label><div class=\"sk-toggleable__content\"><pre>Pipeline(steps=[(&#x27;preprocessing&#x27;,\n",
       "                 ColumnTransformer(transformers=[(&#x27;numberical&#x27;,\n",
       "                                                  StandardScaler(),\n",
       "                                                  [&#x27;Area&#x27;, &#x27;Perimeter&#x27;,\n",
       "                                                   &#x27;MajorAxisLength&#x27;,\n",
       "                                                   &#x27;MinorAxisLength&#x27;,\n",
       "                                                   &#x27;AspectRation&#x27;,\n",
       "                                                   &#x27;Eccentricity&#x27;, &#x27;ConvexArea&#x27;,\n",
       "                                                   &#x27;EquivDiameter&#x27;, &#x27;Extent&#x27;,\n",
       "                                                   &#x27;Solidity&#x27;, &#x27;roundness&#x27;,\n",
       "                                                   &#x27;Compactness&#x27;,\n",
       "                                                   &#x27;ShapeFactor1&#x27;,\n",
       "                                                   &#x27;ShapeFactor2&#x27;,\n",
       "                                                   &#x27;ShapeFactor3&#x27;,\n",
       "                                                   &#x27;ShapeFactor4&#x27;]),\n",
       "                                                 (&#x27;encoding&#x27;, OneHotEncoder(),\n",
       "                                                  [])])),\n",
       "                (&#x27;model&#x27;, SVC(kernel=&#x27;sigmoid&#x27;))])</pre></div></div></div><div class=\"sk-serial\"><div class=\"sk-item\"><div class=\"sk-serial\"><div class=\"sk-item sk-dashed-wrapped\"><div class=\"sk-label-container\"><div class=\"sk-label sk-toggleable\"><input class=\"sk-toggleable__control sk-hidden--visually\" id=\"sk-estimator-id-17\" type=\"checkbox\" ><label for=\"sk-estimator-id-17\" class=\"sk-toggleable__label sk-toggleable__label-arrow\">preprocessing: ColumnTransformer</label><div class=\"sk-toggleable__content\"><pre>ColumnTransformer(transformers=[(&#x27;numberical&#x27;, StandardScaler(),\n",
       "                                 [&#x27;Area&#x27;, &#x27;Perimeter&#x27;, &#x27;MajorAxisLength&#x27;,\n",
       "                                  &#x27;MinorAxisLength&#x27;, &#x27;AspectRation&#x27;,\n",
       "                                  &#x27;Eccentricity&#x27;, &#x27;ConvexArea&#x27;, &#x27;EquivDiameter&#x27;,\n",
       "                                  &#x27;Extent&#x27;, &#x27;Solidity&#x27;, &#x27;roundness&#x27;,\n",
       "                                  &#x27;Compactness&#x27;, &#x27;ShapeFactor1&#x27;, &#x27;ShapeFactor2&#x27;,\n",
       "                                  &#x27;ShapeFactor3&#x27;, &#x27;ShapeFactor4&#x27;]),\n",
       "                                (&#x27;encoding&#x27;, OneHotEncoder(), [])])</pre></div></div></div><div class=\"sk-parallel\"><div class=\"sk-parallel-item\"><div class=\"sk-item\"><div class=\"sk-label-container\"><div class=\"sk-label sk-toggleable\"><input class=\"sk-toggleable__control sk-hidden--visually\" id=\"sk-estimator-id-18\" type=\"checkbox\" ><label for=\"sk-estimator-id-18\" class=\"sk-toggleable__label sk-toggleable__label-arrow\">numberical</label><div class=\"sk-toggleable__content\"><pre>[&#x27;Area&#x27;, &#x27;Perimeter&#x27;, &#x27;MajorAxisLength&#x27;, &#x27;MinorAxisLength&#x27;, &#x27;AspectRation&#x27;, &#x27;Eccentricity&#x27;, &#x27;ConvexArea&#x27;, &#x27;EquivDiameter&#x27;, &#x27;Extent&#x27;, &#x27;Solidity&#x27;, &#x27;roundness&#x27;, &#x27;Compactness&#x27;, &#x27;ShapeFactor1&#x27;, &#x27;ShapeFactor2&#x27;, &#x27;ShapeFactor3&#x27;, &#x27;ShapeFactor4&#x27;]</pre></div></div></div><div class=\"sk-serial\"><div class=\"sk-item\"><div class=\"sk-estimator sk-toggleable\"><input class=\"sk-toggleable__control sk-hidden--visually\" id=\"sk-estimator-id-19\" type=\"checkbox\" ><label for=\"sk-estimator-id-19\" class=\"sk-toggleable__label sk-toggleable__label-arrow\">StandardScaler</label><div class=\"sk-toggleable__content\"><pre>StandardScaler()</pre></div></div></div></div></div></div><div class=\"sk-parallel-item\"><div class=\"sk-item\"><div class=\"sk-label-container\"><div class=\"sk-label sk-toggleable\"><input class=\"sk-toggleable__control sk-hidden--visually\" id=\"sk-estimator-id-20\" type=\"checkbox\" ><label for=\"sk-estimator-id-20\" class=\"sk-toggleable__label sk-toggleable__label-arrow\">encoding</label><div class=\"sk-toggleable__content\"><pre>[]</pre></div></div></div><div class=\"sk-serial\"><div class=\"sk-item\"><div class=\"sk-estimator sk-toggleable\"><input class=\"sk-toggleable__control sk-hidden--visually\" id=\"sk-estimator-id-21\" type=\"checkbox\" ><label for=\"sk-estimator-id-21\" class=\"sk-toggleable__label sk-toggleable__label-arrow\">OneHotEncoder</label><div class=\"sk-toggleable__content\"><pre>OneHotEncoder()</pre></div></div></div></div></div></div></div></div><div class=\"sk-item\"><div class=\"sk-estimator sk-toggleable\"><input class=\"sk-toggleable__control sk-hidden--visually\" id=\"sk-estimator-id-22\" type=\"checkbox\" ><label for=\"sk-estimator-id-22\" class=\"sk-toggleable__label sk-toggleable__label-arrow\">SVC</label><div class=\"sk-toggleable__content\"><pre>SVC(kernel=&#x27;sigmoid&#x27;)</pre></div></div></div></div></div></div></div></div></div></div></div></div>"
      ],
      "text/plain": [
       "GridSearchCV(estimator=Pipeline(steps=[('preprocessing',\n",
       "                                        ColumnTransformer(transformers=[('numberical',\n",
       "                                                                         StandardScaler(),\n",
       "                                                                         ['Area',\n",
       "                                                                          'Perimeter',\n",
       "                                                                          'MajorAxisLength',\n",
       "                                                                          'MinorAxisLength',\n",
       "                                                                          'AspectRation',\n",
       "                                                                          'Eccentricity',\n",
       "                                                                          'ConvexArea',\n",
       "                                                                          'EquivDiameter',\n",
       "                                                                          'Extent',\n",
       "                                                                          'Solidity',\n",
       "                                                                          'roundness',\n",
       "                                                                          'Compactness',\n",
       "                                                                          'ShapeFactor1',\n",
       "                                                                          'ShapeFactor2',\n",
       "                                                                          'ShapeFactor3',\n",
       "                                                                          'ShapeFactor4']),\n",
       "                                                                        ('encoding',\n",
       "                                                                         OneHotEncoder(),\n",
       "                                                                         [])])),\n",
       "                                       ('model', SVC(kernel='sigmoid'))]),\n",
       "             param_grid={'model__kernel': ['linear', 'poly', 'rbf', 'sigmoid']},\n",
       "             scoring='accuracy')"
      ]
     },
     "execution_count": 21,
     "metadata": {},
     "output_type": "execute_result"
    }
   ],
   "source": [
    "grid = GridSearchCV(estimator=training_pipeline, param_grid=param_grid, scoring='accuracy')\n",
    "grid.fit(x_train, y_train)"
   ]
  },
  {
   "cell_type": "code",
   "execution_count": null,
   "id": "78583845-8f2b-473b-8e56-c51f81e30293",
   "metadata": {},
   "outputs": [],
   "source": []
  }
 ],
 "metadata": {
  "kernelspec": {
   "display_name": "Python 3 (ipykernel)",
   "language": "python",
   "name": "python3"
  },
  "language_info": {
   "codemirror_mode": {
    "name": "ipython",
    "version": 3
   },
   "file_extension": ".py",
   "mimetype": "text/x-python",
   "name": "python",
   "nbconvert_exporter": "python",
   "pygments_lexer": "ipython3",
   "version": "3.11.5"
  }
 },
 "nbformat": 4,
 "nbformat_minor": 5
}
